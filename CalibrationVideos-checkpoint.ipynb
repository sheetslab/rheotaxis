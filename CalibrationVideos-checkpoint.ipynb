{
 "cells": [
  {
   "cell_type": "code",
   "execution_count": 4,
   "id": "9be01fc3",
   "metadata": {},
   "outputs": [
    {
     "name": "stdout",
     "output_type": "stream",
     "text": [
      "True\n"
     ]
    }
   ],
   "source": [
    "# Calibration videos\n",
    "import cv2\n",
    "\n",
    "# Read the video\n",
    "cap = cv2.VideoCapture('C:/python/flow/video/20240709_newresin_130.mov')\n",
    "print(cap.isOpened()) # returns True\n",
    "fw  = cap.get(cv2.CAP_PROP_FRAME_WIDTH)   # float `width`\n",
    "fh = cap.get(cv2.CAP_PROP_FRAME_HEIGHT)  # float `height`\n",
    "fps =  cap.get(cv2.CAP_PROP_FPS)\n",
    "totalNoFrames = cap.get(cv2.CAP_PROP_FRAME_COUNT)\n",
    "durationInSeconds = totalNoFrames/fps\n",
    "\n",
    "# print(\"dur =\",durationInSeconds,\"frames# =\",totalNoFrames,\"fps =\",fps)\n",
    "# print(\"w =\",fw,\"h =\",fh)\n"
   ]
  },
  {
   "cell_type": "code",
   "execution_count": 5,
   "id": "d7dacbfc",
   "metadata": {},
   "outputs": [
    {
     "name": "stdout",
     "output_type": "stream",
     "text": [
      "Done\n"
     ]
    }
   ],
   "source": [
    "filename = 'C:/python/flow/video/new_flume1_0017.mp4'\n",
    "codec = 'DIVX' \n",
    "fourcc = cv2.VideoWriter_fourcc(*codec)\n",
    "output_framesize = (int(fw),int(fh))\n",
    "out = cv2.VideoWriter(filename, fourcc = fourcc, fps = 30.0, frameSize = output_framesize, isColor = True)\n",
    "\n",
    "font = cv2.FONT_HERSHEY_SIMPLEX\n",
    "x = 100 #position of text\n",
    "y = 200 #position of text\n",
    "fontScale = 2\n",
    "\n",
    "count=0\n",
    "\n",
    "ret, frame = cap.read()\n",
    "while (True):\n",
    "    ret, frame = cap.read()\n",
    "    cv2.putText(frame, str(count), (x,y), font, fontScale, color=(255,255,255)) #Draw the text\n",
    "    count=count+1\n",
    "    out.write(frame)  \n",
    "    if count>=totalNoFrames:\n",
    "        break\n",
    "\n",
    "cap.release()\n",
    "out.release()\n",
    "print(\"Done\")"
   ]
  },
  {
   "cell_type": "code",
   "execution_count": null,
   "id": "db3a31dd",
   "metadata": {},
   "outputs": [],
   "source": []
  },
  {
   "cell_type": "code",
   "execution_count": null,
   "id": "3f4c64bc",
   "metadata": {},
   "outputs": [],
   "source": []
  }
 ],
 "metadata": {
  "kernelspec": {
   "display_name": "Python 3",
   "language": "python",
   "name": "python3"
  },
  "language_info": {
   "codemirror_mode": {
    "name": "ipython",
    "version": 3
   },
   "file_extension": ".py",
   "mimetype": "text/x-python",
   "name": "python",
   "nbconvert_exporter": "python",
   "pygments_lexer": "ipython3",
   "version": "3.8.8"
  }
 },
 "nbformat": 4,
 "nbformat_minor": 5
}
